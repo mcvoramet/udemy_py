{
 "cells": [
  {
   "cell_type": "code",
   "execution_count": 6,
   "metadata": {},
   "outputs": [],
   "source": [
    "import csv"
   ]
  },
  {
   "cell_type": "code",
   "execution_count": 9,
   "metadata": {},
   "outputs": [],
   "source": [
    "# encoding depend on what kind of file you are opening\n",
    "data = open('creditRisk.csv', encoding = 'utf-8')\n"
   ]
  },
  {
   "cell_type": "code",
   "execution_count": 10,
   "metadata": {},
   "outputs": [],
   "source": [
    "csv_data = csv.reader(data)"
   ]
  },
  {
   "cell_type": "code",
   "execution_count": 11,
   "metadata": {},
   "outputs": [],
   "source": [
    "data_lines = list(csv_data)"
   ]
  },
  {
   "cell_type": "code",
   "execution_count": 14,
   "metadata": {},
   "outputs": [
    {
     "data": {
      "text/plain": [
       "540"
      ]
     },
     "execution_count": 14,
     "metadata": {},
     "output_type": "execute_result"
    }
   ],
   "source": [
    "len(data_lines)"
   ]
  },
  {
   "cell_type": "code",
   "execution_count": 15,
   "metadata": {},
   "outputs": [
    {
     "name": "stdout",
     "output_type": "stream",
     "text": [
      "['https://rpubs.com/anup_jana/logistic']\n",
      "['https://github.com/anup-jana/R-Machine-Learning/tree/master/R%20Scripts/Datasets']\n",
      "[]\n",
      "['Married', 'Dependents', 'Education', 'Self_Employed', 'ApplicantIncome', 'CoapplicantIncome', 'LoanAmount', 'Loan_Amount_Term', 'Credit_History', 'Property_Area', 'Loan_Status']\n",
      "['Yes', '1', 'Not Graduate', 'No', '2653', '1500', '113', '180', '0', 'Rural', 'N']\n"
     ]
    }
   ],
   "source": [
    "for line in data_lines[:5]:\n",
    "    print(line)"
   ]
  },
  {
   "cell_type": "code",
   "execution_count": 17,
   "metadata": {},
   "outputs": [
    {
     "data": {
      "text/plain": [
       "['Married',\n",
       " 'Dependents',\n",
       " 'Education',\n",
       " 'Self_Employed',\n",
       " 'ApplicantIncome',\n",
       " 'CoapplicantIncome',\n",
       " 'LoanAmount',\n",
       " 'Loan_Amount_Term',\n",
       " 'Credit_History',\n",
       " 'Property_Area',\n",
       " 'Loan_Status']"
      ]
     },
     "execution_count": 17,
     "metadata": {},
     "output_type": "execute_result"
    }
   ],
   "source": [
    "# column name\n",
    "data_lines[3]"
   ]
  },
  {
   "cell_type": "code",
   "execution_count": 18,
   "metadata": {},
   "outputs": [
    {
     "data": {
      "text/plain": [
       "['Yes',\n",
       " '1',\n",
       " 'Not Graduate',\n",
       " 'No',\n",
       " '2653',\n",
       " '1500',\n",
       " '113',\n",
       " '180',\n",
       " '0',\n",
       " 'Rural',\n",
       " 'N']"
      ]
     },
     "execution_count": 18,
     "metadata": {},
     "output_type": "execute_result"
    }
   ],
   "source": [
    "# first data\n",
    "data_lines[4]"
   ]
  },
  {
   "cell_type": "code",
   "execution_count": 34,
   "metadata": {},
   "outputs": [
    {
     "data": {
      "text/plain": [
       "'Yes'"
      ]
     },
     "execution_count": 34,
     "metadata": {},
     "output_type": "execute_result"
    }
   ],
   "source": [
    "data_lines[4][0]"
   ]
  },
  {
   "cell_type": "code",
   "execution_count": 21,
   "metadata": {},
   "outputs": [],
   "source": [
    "all_married = []"
   ]
  },
  {
   "cell_type": "code",
   "execution_count": 46,
   "metadata": {},
   "outputs": [],
   "source": [
    "for married in data_lines[4]:\n",
    "    all_married.append(married)"
   ]
  },
  {
   "cell_type": "code",
   "execution_count": 49,
   "metadata": {},
   "outputs": [],
   "source": [
    "file_to_output = open('to_save_file.csv', mode = 'w', newline='')"
   ]
  },
  {
   "cell_type": "code",
   "execution_count": 55,
   "metadata": {},
   "outputs": [],
   "source": [
    "# delimiter to seperate information with particular symbol\n",
    "csv_writer = csv.writer(file_to_output, delimiter=',')"
   ]
  },
  {
   "cell_type": "code",
   "execution_count": 56,
   "metadata": {},
   "outputs": [
    {
     "data": {
      "text/plain": [
       "7"
      ]
     },
     "execution_count": 56,
     "metadata": {},
     "output_type": "execute_result"
    }
   ],
   "source": [
    "csv_writer.writerow(['a','b','c'])"
   ]
  },
  {
   "cell_type": "code",
   "execution_count": 57,
   "metadata": {},
   "outputs": [],
   "source": [
    "csv_writer.writerows([['1','2','3'], ['4','5','6']])"
   ]
  },
  {
   "cell_type": "code",
   "execution_count": 58,
   "metadata": {},
   "outputs": [],
   "source": [
    "file_to_output.close()"
   ]
  },
  {
   "cell_type": "code",
   "execution_count": 59,
   "metadata": {},
   "outputs": [
    {
     "name": "stdout",
     "output_type": "stream",
     "text": [
      "Deal_with_Error.ipynb                 macintosh2.jpg\r\n",
      "Decorators.ipynb                      mail_list.txt\r\n",
      "\u001b[34mExample_Top_Level\u001b[m\u001b[m/                    math_random_modules.ipynb\r\n",
      "Generator.ipynb                       methond_func_hw.py\r\n",
      "OOP_CHALLENGE.ipynb                   milestone_project2.ipynb\r\n",
      "OOP_HW.ipynb                          module.ipynb\r\n",
      "OOP_INTRO.ipynb                       \u001b[34mmodulepackagetry\u001b[m\u001b[m/\r\n",
      "Untitled.ipynb                        my_net_worth.py\r\n",
      "Untitled1.ipynb                       nested_scope.py\r\n",
      "\u001b[34m__MACOSX\u001b[m\u001b[m/                             one.py\r\n",
      "\u001b[34m__pycache__\u001b[m\u001b[m/                          oop_intro.py\r\n",
      "advanced_python_modules_puzzle.ipynb  project2_cardgame_warmup.py\r\n",
      "app.py                                rainbow_mac.png\r\n",
      "basicpy.py                            regular_expression.ipynb\r\n",
      "cap.py                                simple1.py\r\n",
      "comp_file.zip                         test_cap.py\r\n",
      "creditRisk.csv                        testfile\r\n",
      "datetime_module.ipynb                 tictactoe_project.py\r\n",
      "dealing_with_csvfiles.ipynb           tictactoe_sol.py\r\n",
      "debugger.ipynb                        timing_your_code.ipynb\r\n",
      "example.zip                           to_save_file.csv\r\n",
      "fileone.txt                           two.py\r\n",
      "filetwo.txt                           \u001b[34munzip_me_for_instruction\u001b[m\u001b[m/\r\n",
      "\u001b[34mfinal_unzip\u001b[m\u001b[m/                          unzip_me_for_instruction.zip\r\n",
      "function_exercise.py                  warmup_project.py\r\n",
      "hw_dealwitherror.ipynb                warmup_project2_cardgame.ipynb\r\n",
      "iter_generator_hw.ipynb               web_scraping.ipynb\r\n",
      "lambda_maps_filter_func.py            web_scraping_exercise.ipynb\r\n",
      "macintosh.jpg                         zipping_unzipping_files.ipynb\r\n"
     ]
    }
   ],
   "source": [
    "ls"
   ]
  },
  {
   "cell_type": "code",
   "execution_count": 60,
   "metadata": {},
   "outputs": [],
   "source": [
    "f = open('to_save_file.csv', mode='a', newline='')"
   ]
  },
  {
   "cell_type": "code",
   "execution_count": 61,
   "metadata": {},
   "outputs": [],
   "source": [
    "csv_writer = csv.writer(f)"
   ]
  },
  {
   "cell_type": "code",
   "execution_count": 62,
   "metadata": {},
   "outputs": [
    {
     "data": {
      "text/plain": [
       "7"
      ]
     },
     "execution_count": 62,
     "metadata": {},
     "output_type": "execute_result"
    }
   ],
   "source": [
    "csv_writer.writerow(['1','2','3'])"
   ]
  },
  {
   "cell_type": "code",
   "execution_count": 63,
   "metadata": {},
   "outputs": [],
   "source": [
    "f.close()"
   ]
  },
  {
   "cell_type": "code",
   "execution_count": null,
   "metadata": {},
   "outputs": [],
   "source": []
  }
 ],
 "metadata": {
  "kernelspec": {
   "display_name": "Python 3.8.5 64-bit",
   "language": "python",
   "name": "python38564bitd54df0f9514f44a690c46709269a8e45"
  },
  "language_info": {
   "codemirror_mode": {
    "name": "ipython",
    "version": 3
   },
   "file_extension": ".py",
   "mimetype": "text/x-python",
   "name": "python",
   "nbconvert_exporter": "python",
   "pygments_lexer": "ipython3",
   "version": "3.8.5"
  }
 },
 "nbformat": 4,
 "nbformat_minor": 4
}
