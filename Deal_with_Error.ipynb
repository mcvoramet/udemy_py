{
 "cells": [
  {
   "cell_type": "code",
   "execution_count": 1,
   "metadata": {},
   "outputs": [],
   "source": [
    "def add(a ,b):\n",
    "    print(a+b)"
   ]
  },
  {
   "cell_type": "code",
   "execution_count": 2,
   "metadata": {},
   "outputs": [
    {
     "name": "stdout",
     "output_type": "stream",
     "text": [
      "3\n"
     ]
    }
   ],
   "source": [
    "add(1,2)"
   ]
  },
  {
   "cell_type": "code",
   "execution_count": 14,
   "metadata": {},
   "outputs": [
    {
     "name": "stdout",
     "output_type": "stream",
     "text": [
      "Hey it look like you aren't adding correctly\n"
     ]
    }
   ],
   "source": [
    "try:\n",
    "    #Want to attempt this code, may have an error\n",
    "    result = 10 + \"Yo\"\n",
    "except:\n",
    "    print(\"Hey it look like you aren't adding correctly\")\n",
    "else:\n",
    "    print(\"Add went well!\")\n",
    "    print(result)"
   ]
  },
  {
   "cell_type": "code",
   "execution_count": 15,
   "metadata": {},
   "outputs": [
    {
     "name": "stdout",
     "output_type": "stream",
     "text": [
      "Add went well!\n",
      "20\n"
     ]
    }
   ],
   "source": [
    "try:\n",
    "    #Want to attempt this code, may have an error\n",
    "    result = 10 + 10\n",
    "except:\n",
    "    print(\"Hey it look like you aren't adding correctly\")\n",
    "else:\n",
    "    print(\"Add went well!\")\n",
    "    print(result)"
   ]
  },
  {
   "cell_type": "code",
   "execution_count": null,
   "metadata": {},
   "outputs": [],
   "source": []
  },
  {
   "cell_type": "code",
   "execution_count": null,
   "metadata": {},
   "outputs": [],
   "source": []
  },
  {
   "cell_type": "code",
   "execution_count": 20,
   "metadata": {},
   "outputs": [
    {
     "name": "stdout",
     "output_type": "stream",
     "text": [
      "I always run\n"
     ]
    }
   ],
   "source": [
    "try:\n",
    "    f = open('testfile', 'w')\n",
    "    f.write(\"Write a test line\")\n",
    "except TypeError:    #there are a lot of type of error you can look through the document for error type\n",
    "    print(\"Ther was a type error\")\n",
    "except OSError:\n",
    "    print(\"Hey you have an OS Error\")\n",
    "finally:  # Even there is an error this finally: will run\n",
    "    print('I always run')\n",
    "    \n",
    "    "
   ]
  },
  {
   "cell_type": "code",
   "execution_count": 21,
   "metadata": {},
   "outputs": [
    {
     "name": "stdout",
     "output_type": "stream",
     "text": [
      "Hey you have an OS Error\n",
      "I always run\n"
     ]
    }
   ],
   "source": [
    "try:\n",
    "    f = open('testfile', 'r')   # read only 'r'\n",
    "    f.write(\"Write a test line\") # we can't write to the file so that will cause an OS error\n",
    "except TypeError:    \n",
    "    print(\"Ther was a type error\")\n",
    "except OSError:\n",
    "    print(\"Hey you have an OS Error\")\n",
    "finally:\n",
    "    print('I always run')\n",
    "    \n",
    "    "
   ]
  },
  {
   "cell_type": "code",
   "execution_count": null,
   "metadata": {},
   "outputs": [],
   "source": []
  },
  {
   "cell_type": "code",
   "execution_count": null,
   "metadata": {},
   "outputs": [],
   "source": []
  },
  {
   "cell_type": "code",
   "execution_count": 31,
   "metadata": {},
   "outputs": [],
   "source": [
    "def ask_for_int():\n",
    "    \n",
    "    while True:\n",
    "        try: # while true do this\n",
    "            result = int(input(\"Please provide a number: \"))\n",
    "        except:  # if there is an exception do this\n",
    "            print(\"Oops! That is not a number\")\n",
    "            continue\n",
    "        else:    # meaning that there is no exception\n",
    "            print('Yes thak you')\n",
    "            break   # break out of while True\n",
    "        finally:\n",
    "            print(\"I'm going to ask you again!\")\n",
    "            "
   ]
  },
  {
   "cell_type": "code",
   "execution_count": 32,
   "metadata": {},
   "outputs": [
    {
     "name": "stdout",
     "output_type": "stream",
     "text": [
      "Please provide a number: fd\n",
      "Oops! That is not a number\n",
      "I'm going to ask you again!\n",
      "Please provide a number: fd\n",
      "Oops! That is not a number\n",
      "I'm going to ask you again!\n",
      "Please provide a number: 12\n",
      "Yes thak you\n",
      "I'm going to ask you again!\n"
     ]
    }
   ],
   "source": [
    "ask_for_int()\n"
   ]
  },
  {
   "cell_type": "code",
   "execution_count": null,
   "metadata": {},
   "outputs": [],
   "source": []
  }
 ],
 "metadata": {
  "kernelspec": {
   "display_name": "Python 3.8.5 64-bit",
   "language": "python",
   "name": "python38564bitd54df0f9514f44a690c46709269a8e45"
  },
  "language_info": {
   "codemirror_mode": {
    "name": "ipython",
    "version": 3
   },
   "file_extension": ".py",
   "mimetype": "text/x-python",
   "name": "python",
   "nbconvert_exporter": "python",
   "pygments_lexer": "ipython3",
   "version": "3.8.5"
  }
 },
 "nbformat": 4,
 "nbformat_minor": 4
}
