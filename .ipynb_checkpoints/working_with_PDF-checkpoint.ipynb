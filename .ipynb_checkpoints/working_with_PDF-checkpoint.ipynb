{
 "cells": [
  {
   "cell_type": "code",
   "execution_count": 4,
   "metadata": {},
   "outputs": [],
   "source": [
    "import PyPDF2"
   ]
  },
  {
   "cell_type": "code",
   "execution_count": 8,
   "metadata": {},
   "outputs": [],
   "source": [
    "# rb stand for read binary\n",
    "f = open('voramet_resumer(v.2).pdf', 'rb')"
   ]
  },
  {
   "cell_type": "code",
   "execution_count": 9,
   "metadata": {},
   "outputs": [],
   "source": [
    "pdf_reader = PyPDF2.PdfFileReader(f)"
   ]
  },
  {
   "cell_type": "code",
   "execution_count": 10,
   "metadata": {},
   "outputs": [
    {
     "data": {
      "text/plain": [
       "1"
      ]
     },
     "execution_count": 10,
     "metadata": {},
     "output_type": "execute_result"
    }
   ],
   "source": [
    "pdf_reader.numPages"
   ]
  },
  {
   "cell_type": "code",
   "execution_count": 11,
   "metadata": {},
   "outputs": [],
   "source": [
    "page_one = pdf_reader.getPage(0)"
   ]
  },
  {
   "cell_type": "code",
   "execution_count": 12,
   "metadata": {},
   "outputs": [],
   "source": [
    "page_one_text = page_one.extractText()"
   ]
  },
  {
   "cell_type": "code",
   "execution_count": 13,
   "metadata": {},
   "outputs": [
    {
     "data": {
      "text/plain": [
       "' \\n \\n \\n \\nVC2543@GMAIL.COM\\n \\n              \\n0824997130\\n \\nlinkedin.com/in/vorame\\nt\\n-\\nchunvattananon\\n-\\n2351aa1a9\\n \\n \\n \\n \\n \\nOBJECTIVE\\n \\n \\nJUNIOR COLLEGE STUDENT WHO \\nHAS\\n \\nA PASSIONATE IN \\nTECHNOLOGY AND LOVE TO SEE \\nTHE WORLD IN BIG PICTURE IN \\nORDER TO UNDERSTAND THE \\nSYSTEM OF EVERYTHING. MY \\nGOAL IS TO WORKS IN A \\nMEANINGFUL JOB AND BECOME \\nPART OF THE TECHNOLOGIES IN \\nTHE TREND THAT WILL CHANGE \\nTHE WORLD.\\n \\n \\nSKILLS\\n \\n \\nFluent Eng\\nlish Communication\\n \\nTime Management\\n \\nCollaboration\\n \\nMicrosoft Office Suite\\n \\nC/C++, Python Programming\\n \\nMATLAB\\n \\n \\n \\nVORAMET \\nCHUNVATTANANON\\n \\nPROFESSION OR INDUSTRY\\n \\n| \\nLINK TO OTHER ONLINE PROPERTIES: \\nPORTFOLIO/WEBSITE/BLOG\\n \\n \\nEDUCATION\\n \\n\\n \\ndegree\\n \\n(3\\nrd\\n \\nyear student)\\n \\nElectronics and Telecommunications Engineering\\n \\n\\nuri\\n \\nGPA 3.08 \\n \\nVOLUNTEER EXPERIENCE OR LEADERSHIP\\n \\nElectronic \\nC\\namp 2019 (Tutor Assistance)\\n \\nUniversity\\n \\nV\\narsity \\nC\\nheerleader 2019\\n \\n \\n'"
      ]
     },
     "execution_count": 13,
     "metadata": {},
     "output_type": "execute_result"
    }
   ],
   "source": [
    "page_one_text\n"
   ]
  },
  {
   "cell_type": "code",
   "execution_count": 14,
   "metadata": {},
   "outputs": [],
   "source": [
    "f.close()"
   ]
  },
  {
   "cell_type": "code",
   "execution_count": 15,
   "metadata": {},
   "outputs": [],
   "source": [
    "# add pages to pdf\n",
    "\n",
    "f = open('voramet_resumer(v.2).pdf', 'rb')"
   ]
  },
  {
   "cell_type": "code",
   "execution_count": 16,
   "metadata": {},
   "outputs": [],
   "source": [
    "pdf_reader = PyPDF2.PdfFileReader(f)"
   ]
  },
  {
   "cell_type": "code",
   "execution_count": 18,
   "metadata": {},
   "outputs": [],
   "source": [
    "first_page = pdf_reader.getPage(0)"
   ]
  },
  {
   "cell_type": "code",
   "execution_count": 19,
   "metadata": {},
   "outputs": [],
   "source": [
    "pdf_writer = PyPDF2.PdfFileWriter()"
   ]
  },
  {
   "cell_type": "code",
   "execution_count": 21,
   "metadata": {},
   "outputs": [
    {
     "data": {
      "text/plain": [
       "PyPDF2.pdf.PageObject"
      ]
     },
     "execution_count": 21,
     "metadata": {},
     "output_type": "execute_result"
    }
   ],
   "source": [
    "type(first_page)"
   ]
  },
  {
   "cell_type": "code",
   "execution_count": 22,
   "metadata": {},
   "outputs": [],
   "source": [
    "pdf_writer.addPage(first_page)"
   ]
  },
  {
   "cell_type": "code",
   "execution_count": 23,
   "metadata": {},
   "outputs": [],
   "source": [
    "# wb stand for write binary\n",
    "# remember any .pdf file name similar to this will be overwrite\n",
    "pdf_output = open('Some_BrandNew_Doc.pdf',\"wb\")"
   ]
  },
  {
   "cell_type": "code",
   "execution_count": 24,
   "metadata": {},
   "outputs": [],
   "source": [
    "pdf_writer.write(pdf_output)"
   ]
  },
  {
   "cell_type": "code",
   "execution_count": 25,
   "metadata": {},
   "outputs": [],
   "source": [
    "f.close()"
   ]
  },
  {
   "cell_type": "code",
   "execution_count": 26,
   "metadata": {},
   "outputs": [],
   "source": [
    "pdf_output.close()"
   ]
  },
  {
   "cell_type": "code",
   "execution_count": 30,
   "metadata": {},
   "outputs": [],
   "source": [
    "f = open('voramet_resumer(v.2).pdf', 'rb')\n",
    "\n",
    "pdf_text = []\n",
    "\n",
    "pdf_reader = PyPDF2.PdfFileReader(f)\n",
    "\n",
    "for num in range(pdf_reader.numPages):\n",
    "    \n",
    "    page = pdf_reader.getPage(num)\n",
    "    \n",
    "    pdf_text.append(page.extractText())"
   ]
  },
  {
   "cell_type": "code",
   "execution_count": 32,
   "metadata": {},
   "outputs": [
    {
     "name": "stdout",
     "output_type": "stream",
     "text": [
      " \n",
      " \n",
      " \n",
      " \n",
      "VC2543@GMAIL.COM\n",
      " \n",
      "              \n",
      "0824997130\n",
      " \n",
      "linkedin.com/in/vorame\n",
      "t\n",
      "-\n",
      "chunvattananon\n",
      "-\n",
      "2351aa1a9\n",
      " \n",
      " \n",
      " \n",
      " \n",
      " \n",
      "OBJECTIVE\n",
      " \n",
      " \n",
      "JUNIOR COLLEGE STUDENT WHO \n",
      "HAS\n",
      " \n",
      "A PASSIONATE IN \n",
      "TECHNOLOGY AND LOVE TO SEE \n",
      "THE WORLD IN BIG PICTURE IN \n",
      "ORDER TO UNDERSTAND THE \n",
      "SYSTEM OF EVERYTHING. MY \n",
      "GOAL IS TO WORKS IN A \n",
      "MEANINGFUL JOB AND BECOME \n",
      "PART OF THE TECHNOLOGIES IN \n",
      "THE TREND THAT WILL CHANGE \n",
      "THE WORLD.\n",
      " \n",
      " \n",
      "SKILLS\n",
      " \n",
      " \n",
      "Fluent Eng\n",
      "lish Communication\n",
      " \n",
      "Time Management\n",
      " \n",
      "Collaboration\n",
      " \n",
      "Microsoft Office Suite\n",
      " \n",
      "C/C++, Python Programming\n",
      " \n",
      "MATLAB\n",
      " \n",
      " \n",
      " \n",
      "VORAMET \n",
      "CHUNVATTANANON\n",
      " \n",
      "PROFESSION OR INDUSTRY\n",
      " \n",
      "| \n",
      "LINK TO OTHER ONLINE PROPERTIES: \n",
      "PORTFOLIO/WEBSITE/BLOG\n",
      " \n",
      " \n",
      "EDUCATION\n",
      " \n",
      "\n",
      " \n",
      "degree\n",
      " \n",
      "(3\n",
      "rd\n",
      " \n",
      "year student)\n",
      " \n",
      "Electronics and Telecommunications Engineering\n",
      " \n",
      "\n",
      "uri\n",
      " \n",
      "GPA 3.08 \n",
      " \n",
      "VOLUNTEER EXPERIENCE OR LEADERSHIP\n",
      " \n",
      "Electronic \n",
      "C\n",
      "amp 2019 (Tutor Assistance)\n",
      " \n",
      "University\n",
      " \n",
      "V\n",
      "arsity \n",
      "C\n",
      "heerleader 2019\n",
      " \n",
      " \n",
      "\n"
     ]
    }
   ],
   "source": [
    "print(pdf_text[0])"
   ]
  },
  {
   "cell_type": "code",
   "execution_count": null,
   "metadata": {},
   "outputs": [],
   "source": []
  }
 ],
 "metadata": {
  "kernelspec": {
   "display_name": "Python 3",
   "language": "python",
   "name": "python3"
  },
  "language_info": {
   "codemirror_mode": {
    "name": "ipython",
    "version": 3
   },
   "file_extension": ".py",
   "mimetype": "text/x-python",
   "name": "python",
   "nbconvert_exporter": "python",
   "pygments_lexer": "ipython3",
   "version": "3.8.5"
  }
 },
 "nbformat": 4,
 "nbformat_minor": 4
}
