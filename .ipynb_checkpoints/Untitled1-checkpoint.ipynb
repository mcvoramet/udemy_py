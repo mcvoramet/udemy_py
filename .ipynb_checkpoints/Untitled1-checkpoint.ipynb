{
 "cells": [
  {
   "cell_type": "code",
   "execution_count": 1,
   "metadata": {},
   "outputs": [
    {
     "data": {
      "text/plain": [
       "'/Users/vorametchunvattananon/Desktop/udemy_py'"
      ]
     },
     "execution_count": 1,
     "metadata": {},
     "output_type": "execute_result"
    }
   ],
   "source": [
    "pwd"
   ]
  },
  {
   "cell_type": "code",
   "execution_count": 2,
   "metadata": {},
   "outputs": [],
   "source": [
    "f = open('practice.txt', 'w+' )\n",
    "f.write('This is a test string')\n",
    "f.close()"
   ]
  },
  {
   "cell_type": "code",
   "execution_count": 3,
   "metadata": {},
   "outputs": [],
   "source": [
    "import os"
   ]
  },
  {
   "cell_type": "code",
   "execution_count": 4,
   "metadata": {},
   "outputs": [
    {
     "data": {
      "text/plain": [
       "'/Users/vorametchunvattananon/Desktop/udemy_py'"
      ]
     },
     "execution_count": 4,
     "metadata": {},
     "output_type": "execute_result"
    }
   ],
   "source": [
    "os.getcwd()"
   ]
  },
  {
   "cell_type": "code",
   "execution_count": 5,
   "metadata": {},
   "outputs": [
    {
     "data": {
      "text/plain": [
       "['Deal_with_Error.ipynb',\n",
       " 'module.ipynb',\n",
       " 'one.py',\n",
       " 'Decorators.ipynb',\n",
       " 'test_cap.py',\n",
       " 'Untitled1.ipynb',\n",
       " '.DS_Store',\n",
       " 'OOP_HW.ipynb',\n",
       " 'hw_dealwitherror.ipynb',\n",
       " 'nested_scope.py',\n",
       " 'OOP_CHALLENGE.ipynb',\n",
       " 'warmup_project2_cardgame.ipynb',\n",
       " 'Untitled.ipynb',\n",
       " 'tictactoe_project.py',\n",
       " 'function_exercise.py',\n",
       " 'oop_intro.py',\n",
       " 'cap.py',\n",
       " 'modulepackagetry',\n",
       " 'practice.txt',\n",
       " 'iter_generator_hw.ipynb',\n",
       " 'two.py',\n",
       " '__pycache__',\n",
       " 'project2_cardgame_warmup.py',\n",
       " 'simple1.py',\n",
       " 'milestone_project2.ipynb',\n",
       " 'warmup_project.py',\n",
       " 'checkifitimportordireclyuse.png',\n",
       " 'methond_func_hw.py',\n",
       " 'OOP_INTRO.ipynb',\n",
       " 'mail_list.txt',\n",
       " 'my_net_worth.py',\n",
       " 'app.py',\n",
       " '.ipynb_checkpoints',\n",
       " 'basicpy.py',\n",
       " 'testfile',\n",
       " 'tictactoe_sol.py',\n",
       " 'lambda_maps_filter_func.py',\n",
       " '.idea',\n",
       " 'Generator.ipynb']"
      ]
     },
     "execution_count": 5,
     "metadata": {},
     "output_type": "execute_result"
    }
   ],
   "source": [
    "os.listdir()"
   ]
  },
  {
   "cell_type": "code",
   "execution_count": 6,
   "metadata": {},
   "outputs": [
    {
     "data": {
      "text/plain": [
       "['.localized', 'Shared', 'vorametchunvattananon']"
      ]
     },
     "execution_count": 6,
     "metadata": {},
     "output_type": "execute_result"
    }
   ],
   "source": [
    "os.listdir('/Users')"
   ]
  },
  {
   "cell_type": "code",
   "execution_count": 7,
   "metadata": {},
   "outputs": [],
   "source": [
    "import shutil"
   ]
  },
  {
   "cell_type": "code",
   "execution_count": 9,
   "metadata": {},
   "outputs": [
    {
     "data": {
      "text/plain": [
       "'/Users/vorametchunvattananon/Desktop/practice.txt'"
      ]
     },
     "execution_count": 9,
     "metadata": {},
     "output_type": "execute_result"
    }
   ],
   "source": [
    "# move file to other directory that you have permission to\n",
    "shutil.move('practice.txt', '/Users/vorametchunvattananon/Desktop')"
   ]
  },
  {
   "cell_type": "code",
   "execution_count": 10,
   "metadata": {},
   "outputs": [
    {
     "data": {
      "text/plain": [
       "['Thumbs.db',\n",
       " 'labmicroprofile',\n",
       " '.DS_Store',\n",
       " 'Matlab(Practice)',\n",
       " '.localized',\n",
       " '$RECYCLE.BIN',\n",
       " 'practice.txt',\n",
       " \"Mc's Doc\",\n",
       " 'JuniorWork',\n",
       " '.employees.txt.swp',\n",
       " '~$oderef.dotx',\n",
       " 'ArduinoCode',\n",
       " 'Thesis_Project',\n",
       " 'Chapter2 EngHome.pdf',\n",
       " 'excel4busi',\n",
       " 'DL_Python',\n",
       " 'd282bl3w017rilwfrnavjgc19.docx',\n",
       " 'desktop.ini',\n",
       " 'กลุ่ม1.pdf',\n",
       " 'py4e',\n",
       " 'git',\n",
       " 'udemy_py',\n",
       " '~$2ndLPF_LabReport.xlsx']"
      ]
     },
     "execution_count": 10,
     "metadata": {},
     "output_type": "execute_result"
    }
   ],
   "source": [
    "os.listdir('/Users/vorametchunvattananon/Desktop')"
   ]
  },
  {
   "cell_type": "code",
   "execution_count": 13,
   "metadata": {},
   "outputs": [
    {
     "name": "stdout",
     "output_type": "stream",
     "text": [
      "##################\n",
      "##################\n",
      "##################\n",
      "##################\n",
      "##################\n",
      "##################\n",
      "File Founded!\n",
      "##################\n",
      "##################\n",
      "##################\n",
      "##################\n",
      "##################\n",
      "##################\n",
      "##################\n",
      "##################\n",
      "##################\n",
      "##################\n",
      "##################\n",
      "##################\n",
      "##################\n",
      "##################\n",
      "##################\n",
      "##################\n"
     ]
    }
   ],
   "source": [
    "for my_f in os.listdir('/Users/vorametchunvattananon/Desktop'):\n",
    "    if my_f == 'practice.txt':\n",
    "        print('File Founded!')\n",
    "    else:\n",
    "        print(\"##################\")"
   ]
  },
  {
   "cell_type": "code",
   "execution_count": null,
   "metadata": {},
   "outputs": [],
   "source": []
  },
  {
   "cell_type": "code",
   "execution_count": null,
   "metadata": {},
   "outputs": [],
   "source": []
  },
  {
   "cell_type": "code",
   "execution_count": 14,
   "metadata": {},
   "outputs": [],
   "source": [
    "import send2trash"
   ]
  },
  {
   "cell_type": "code",
   "execution_count": 15,
   "metadata": {},
   "outputs": [
    {
     "data": {
      "text/plain": [
       "'/Users/vorametchunvattananon/Desktop/udemy_py/practice.txt'"
      ]
     },
     "execution_count": 15,
     "metadata": {},
     "output_type": "execute_result"
    }
   ],
   "source": [
    "# move to file to the directory that you are right now\n",
    "shutil.move('/Users/vorametchunvattananon/Desktop/practice.txt', os.getcwd())"
   ]
  },
  {
   "cell_type": "code",
   "execution_count": 16,
   "metadata": {},
   "outputs": [
    {
     "data": {
      "text/plain": [
       "['Deal_with_Error.ipynb',\n",
       " 'module.ipynb',\n",
       " 'one.py',\n",
       " 'Decorators.ipynb',\n",
       " 'test_cap.py',\n",
       " 'Untitled1.ipynb',\n",
       " '.DS_Store',\n",
       " 'OOP_HW.ipynb',\n",
       " 'hw_dealwitherror.ipynb',\n",
       " 'nested_scope.py',\n",
       " 'OOP_CHALLENGE.ipynb',\n",
       " 'warmup_project2_cardgame.ipynb',\n",
       " 'Untitled.ipynb',\n",
       " 'tictactoe_project.py',\n",
       " 'function_exercise.py',\n",
       " 'oop_intro.py',\n",
       " 'cap.py',\n",
       " 'modulepackagetry',\n",
       " 'practice.txt',\n",
       " 'iter_generator_hw.ipynb',\n",
       " 'two.py',\n",
       " '__pycache__',\n",
       " 'project2_cardgame_warmup.py',\n",
       " 'simple1.py',\n",
       " 'milestone_project2.ipynb',\n",
       " 'warmup_project.py',\n",
       " 'checkifitimportordireclyuse.png',\n",
       " 'methond_func_hw.py',\n",
       " 'OOP_INTRO.ipynb',\n",
       " 'mail_list.txt',\n",
       " 'my_net_worth.py',\n",
       " 'app.py',\n",
       " '.ipynb_checkpoints',\n",
       " 'basicpy.py',\n",
       " 'testfile',\n",
       " 'tictactoe_sol.py',\n",
       " 'lambda_maps_filter_func.py',\n",
       " '.idea',\n",
       " 'Generator.ipynb']"
      ]
     },
     "execution_count": 16,
     "metadata": {},
     "output_type": "execute_result"
    }
   ],
   "source": [
    "os.listdir()"
   ]
  },
  {
   "cell_type": "code",
   "execution_count": 18,
   "metadata": {},
   "outputs": [],
   "source": [
    "# delete file (send to trash)\n",
    "send2trash.send2trash('practice.txt')"
   ]
  },
  {
   "cell_type": "code",
   "execution_count": 25,
   "metadata": {},
   "outputs": [
    {
     "data": {
      "text/plain": [
       "['Example_Top_Level',\n",
       " 'Deal_with_Error.ipynb',\n",
       " 'module.ipynb',\n",
       " 'one.py',\n",
       " 'Decorators.ipynb',\n",
       " 'test_cap.py',\n",
       " 'Untitled1.ipynb',\n",
       " '.DS_Store',\n",
       " 'OOP_HW.ipynb',\n",
       " 'hw_dealwitherror.ipynb',\n",
       " 'nested_scope.py',\n",
       " 'OOP_CHALLENGE.ipynb',\n",
       " 'warmup_project2_cardgame.ipynb',\n",
       " 'Untitled.ipynb',\n",
       " 'tictactoe_project.py',\n",
       " 'function_exercise.py',\n",
       " 'oop_intro.py',\n",
       " 'cap.py',\n",
       " 'modulepackagetry',\n",
       " 'iter_generator_hw.ipynb',\n",
       " 'two.py',\n",
       " '__pycache__',\n",
       " 'project2_cardgame_warmup.py',\n",
       " 'simple1.py',\n",
       " 'milestone_project2.ipynb',\n",
       " 'warmup_project.py',\n",
       " 'checkifitimportordireclyuse.png',\n",
       " 'methond_func_hw.py',\n",
       " 'OOP_INTRO.ipynb',\n",
       " 'mail_list.txt',\n",
       " 'my_net_worth.py',\n",
       " 'app.py',\n",
       " '.ipynb_checkpoints',\n",
       " 'basicpy.py',\n",
       " 'testfile',\n",
       " 'tictactoe_sol.py',\n",
       " 'lambda_maps_filter_func.py',\n",
       " '.idea',\n",
       " 'Generator.ipynb']"
      ]
     },
     "execution_count": 25,
     "metadata": {},
     "output_type": "execute_result"
    }
   ],
   "source": [
    "os.listdir()"
   ]
  },
  {
   "cell_type": "code",
   "execution_count": 26,
   "metadata": {},
   "outputs": [
    {
     "data": {
      "text/plain": [
       "'/Users/vorametchunvattananon/Desktop/udemy_py'"
      ]
     },
     "execution_count": 26,
     "metadata": {},
     "output_type": "execute_result"
    }
   ],
   "source": [
    "os.getcwd()"
   ]
  },
  {
   "cell_type": "code",
   "execution_count": 27,
   "metadata": {},
   "outputs": [
    {
     "name": "stdout",
     "output_type": "stream",
     "text": [
      "Currently looking at /Users/vorametchunvattananon/Desktop/udemy_py/Example_Top_Level\n",
      "\n",
      "\n",
      "The subfolders are: \n",
      "Subfolder: Mid-Example-two:\n",
      "Subfolder: Mid-Example-one:\n",
      "\n",
      "\n",
      "the files are: \n",
      "\t File: .DS_Store\n",
      "\t File: Mid-Example.txt\n",
      "\n",
      "\n",
      "Currently looking at /Users/vorametchunvattananon/Desktop/udemy_py/Example_Top_Level/Mid-Example-two\n",
      "\n",
      "\n",
      "The subfolders are: \n",
      "Subfolder: Sub-Example-Two:\n",
      "\n",
      "\n",
      "the files are: \n",
      "\t File: .DS_Store\n",
      "\n",
      "\n",
      "Currently looking at /Users/vorametchunvattananon/Desktop/udemy_py/Example_Top_Level/Mid-Example-two/Sub-Example-Two\n",
      "\n",
      "\n",
      "The subfolders are: \n",
      "\n",
      "\n",
      "the files are: \n",
      "\t File: Bottom-Example-Two.txt\n",
      "\n",
      "\n",
      "Currently looking at /Users/vorametchunvattananon/Desktop/udemy_py/Example_Top_Level/Mid-Example-one\n",
      "\n",
      "\n",
      "The subfolders are: \n",
      "Subfolder: Sub-Example-One:\n",
      "\n",
      "\n",
      "the files are: \n",
      "\t File: .DS_Store\n",
      "\n",
      "\n",
      "Currently looking at /Users/vorametchunvattananon/Desktop/udemy_py/Example_Top_Level/Mid-Example-one/Sub-Example-One\n",
      "\n",
      "\n",
      "The subfolders are: \n",
      "\n",
      "\n",
      "the files are: \n",
      "\t File: Bottom-Example-One.txt\n",
      "\n",
      "\n"
     ]
    }
   ],
   "source": [
    "# look through top level folder --> subfolder --> raw file\n",
    "file_path = '/Users/vorametchunvattananon/Desktop/udemy_py/Example_Top_Level'\n",
    "for folder, sub_folders, files in os.walk(file_path):\n",
    "    \n",
    "    print(f\"Currently looking at {folder}\")\n",
    "    print('\\n')\n",
    "    print('The subfolders are: ')\n",
    "    for sub_fold in sub_folders:\n",
    "        print(f\"Subfolder: {sub_fold}:\")\n",
    "    \n",
    "    print(\"\\n\")\n",
    "    print('the files are: ')\n",
    "    for f in files:\n",
    "        print(f\"\\t File: {f}\")\n",
    "    print('\\n')\n",
    "    \n",
    "              "
   ]
  },
  {
   "cell_type": "code",
   "execution_count": null,
   "metadata": {},
   "outputs": [],
   "source": []
  }
 ],
 "metadata": {
  "kernelspec": {
   "display_name": "Python 3.8.5 64-bit",
   "language": "python",
   "name": "python38564bitd54df0f9514f44a690c46709269a8e45"
  },
  "language_info": {
   "codemirror_mode": {
    "name": "ipython",
    "version": 3
   },
   "file_extension": ".py",
   "mimetype": "text/x-python",
   "name": "python",
   "nbconvert_exporter": "python",
   "pygments_lexer": "ipython3",
   "version": "3.8.5"
  }
 },
 "nbformat": 4,
 "nbformat_minor": 4
}
